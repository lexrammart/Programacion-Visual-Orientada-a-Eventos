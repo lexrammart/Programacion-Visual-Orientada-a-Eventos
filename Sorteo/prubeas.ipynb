{
 "cells": [
  {
   "cell_type": "code",
   "execution_count": 64,
   "id": "38bf8ad4",
   "metadata": {},
   "outputs": [
    {
     "name": "stdout",
     "output_type": "stream",
     "text": [
      "A\n",
      "A\n",
      "C\n",
      "C\n",
      "D\n",
      "B\n",
      "A\n",
      "D\n",
      "A\n",
      "B\n",
      "rosa\n",
      "rosa\n",
      "amarillo\n",
      "amarillo\n",
      "morado\n",
      "morado\n",
      "amarillo\n",
      "rosa\n",
      "amarillo\n",
      "rosa\n"
     ]
    }
   ],
   "source": [
    "import random\n",
    "\n",
    "print(*random.choices(['A', 'B', 'C', 'D'], k=10), sep='\\n')\n",
    "print(*random.choices(['amarillo', 'morado', 'rosa'], k=10), sep='\\n')\n"
   ]
  }
 ],
 "metadata": {
  "kernelspec": {
   "display_name": "Python 3",
   "language": "python",
   "name": "python3"
  },
  "language_info": {
   "codemirror_mode": {
    "name": "ipython",
    "version": 3
   },
   "file_extension": ".py",
   "mimetype": "text/x-python",
   "name": "python",
   "nbconvert_exporter": "python",
   "pygments_lexer": "ipython3",
   "version": "3.13.3"
  }
 },
 "nbformat": 4,
 "nbformat_minor": 5
}
